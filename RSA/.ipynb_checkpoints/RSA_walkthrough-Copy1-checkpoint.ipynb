{
 "cells": [
  {
   "cell_type": "markdown",
   "metadata": {},
   "source": [
    "**The Big Picture**"
   ]
  },
  {
   "cell_type": "markdown",
   "metadata": {},
   "source": [
    "The basic idea of RSA is that it is relatively easy to take two prime numbers and multiply them together. It is also relatively easy to raise a number to an exponent and find the modulo of that number for any given base. It is _not_, however, so easy to do the reverse and determine which two primes were mulitplied together. That is the basic idea behind RSA: your data is safe so long as it takes \"too long\" for someone else to compute which two numbers you used."
   ]
  },
  {
   "cell_type": "markdown",
   "metadata": {},
   "source": [
    "**How does any of this work?**"
   ]
  },
  {
   "cell_type": "markdown",
   "metadata": {},
   "source": [
    "Let's start with the idea of modular arithmatic, since it is the basis of what keeps your data secure. Alex Morrow has created a library called **modulararithmatic.py** which we will use to explore this topic."
   ]
  },
  {
   "cell_type": "code",
   "execution_count": 3,
   "metadata": {
    "collapsed": false
   },
   "outputs": [],
   "source": [
    "import numpy as np\n",
    "import modulararithmetic as ma"
   ]
  },
  {
   "cell_type": "markdown",
   "metadata": {},
   "source": [
    "The basic idea of modular arithmatic is fairly straightforward. Imagine a circle of numbers, such as a clock, where all operations wrap back around. For example, say it is 9 o'clock. You know that in 4 hours, it will not be 13 o'clock, but 1 o'clock (provided you aren't working in military time). This \"clock arithmatic\" that most of us perform in our everyday lives is really modular arithmatic! The operation you just performed can be represented as 9 + 4 (mod 12) = 1.\n",
    "\n",
    "Similarly, take the operation 2 + 3. If your clock has only 4 numbers [in other words, you are working (mod 4)], you would start at 2, take 3 steps forward, then wrap back around to 1. Likewise, if you started with the value (2+3)(mod4), it would be represented the same way, because modular arithmatic does not depend on the order of the operations that are performed. Let's take a moment to explore how this is implemented in **modulararithmatic.py**:"
   ]
  },
  {
   "cell_type": "code",
   "execution_count": 4,
   "metadata": {
    "collapsed": false
   },
   "outputs": [
    {
     "name": "stdout",
     "output_type": "stream",
     "text": [
      "2\n",
      "True\n",
      "4\n",
      "1\n"
     ]
    }
   ],
   "source": [
    "a = ma.mod(5)(7)\n",
    "print(int(a))\n",
    "\n",
    "#For addition (mod n), the order of operations does not affect the result\n",
    "b = ma.mod(5)(6+8)\n",
    "c = ma.mod(5)(6) + ma.mod(5)(8)\n",
    "print(int(b) == int(c))\n",
    "print(int(b))\n",
    "\n",
    "#If you have created two ModX objects with the same (mod n), all normal arithmatic operations will be perfomred (mod n)\n",
    "print(int(a+b))\n",
    "\n",
    "\n",
    "#Find 15 (mod 7)\n",
    "\n",
    "#Find 23456 (mod 123)\n",
    "\n",
    "#Find [17 (mod9) + 35 (mod9)] (mod 7)"
   ]
  },
  {
   "cell_type": "markdown",
   "metadata": {},
   "source": [
    "Once you have an understanding of modular arithmatic, modular multiplication works pretty much how you would expect it to. For example:"
   ]
  },
  {
   "cell_type": "code",
   "execution_count": 13,
   "metadata": {
    "collapsed": false,
    "scrolled": true
   },
   "outputs": [
    {
     "name": "stdout",
     "output_type": "stream",
     "text": [
      "1\n"
     ]
    }
   ],
   "source": [
    "a = ma.mod(5)(7)\n",
    "b = ma.mod(5)(18)\n",
    "print(int(a*b))\n",
    "\n",
    "#Try multiplying any two numbers base 24\n",
    "\n"
   ]
  },
  {
   "cell_type": "markdown",
   "metadata": {},
   "source": [
    "Now that you have an idea of how modular addition and multiplication work, let's talk a bit about inverses, which will be very important to understanding RSA. In normal math, a number times its inverse equals 1 (2 x 1/2 = 1) and a number plus its inverse equals 0 (2 + -2 = 0). The numbers 1 and 0 are called identities because if you multiply / add any number by them (respecively), the result will be the number you started with (1 + 0 = 1; 2 x 1 = 2). In modular arithmatic, the same is true. However, instead of using negative numbers or fractions, we have to rely on the numbers from 1 to *n*. Let's explore this in regards to multiplication:"
   ]
  },
  {
   "cell_type": "code",
   "execution_count": 30,
   "metadata": {
    "collapsed": false
   },
   "outputs": [
    {
     "name": "stdout",
     "output_type": "stream",
     "text": [
      "3\n",
      "'2'\n"
     ]
    }
   ],
   "source": [
    "#To find the inverse of a ModX object (mod n) use: - (addition) or ~ (multiplication)\n",
    "a = ma.mod(5)(7)\n",
    "b = ~a\n",
    "print(int(b))\n",
    "b = ma.mod(5)(18)\n",
    "c = -b\n",
    "print(c)\n",
    "\n",
    "#find the inverse of b = ma.mod(5)(19)\n"
   ]
  },
  {
   "cell_type": "markdown",
   "metadata": {},
   "source": [
    "Awesome! Now that you know the basics of using modular arithmatic, let's start looking at how this applies to RSA. One of the primary ideas of RSA is that given a number (mod *n*), we can find its inverse. Therefore, it becomes very important to choose *n* such that there will be an inverse. Let's start exploring how to choose *n* by looking at what happens when *n* is equal to 6:"
   ]
  },
  {
   "cell_type": "code",
   "execution_count": 6,
   "metadata": {
    "collapsed": false,
    "scrolled": true
   },
   "outputs": [
    {
     "name": "stdout",
     "output_type": "stream",
     "text": [
      "'1' is the inverse of 1\n",
      "2 is not invertable\n",
      "3 is not invertable\n",
      "4 is not invertable\n",
      "'5' is the inverse of 5\n"
     ]
    }
   ],
   "source": [
    "#for every number (mod 6) print the multiplicative inverse\n",
    "n = 6\n",
    "for i in range(1, n):\n",
    "    a = ma.mod(n)(i)\n",
    "    try:\n",
    "        print('{} is the inverse of {}'.format(~a, i))\n",
    "    except:\n",
    "        print('{} is not invertable'.format(i))\n",
    "\n",
    "#Change the code above to find sets of numbers where every value has an inverse Once you have found three that work,\n",
    "#what do they have in common?"
   ]
  },
  {
   "cell_type": "markdown",
   "metadata": {},
   "source": [
    "It turns out, if *n* is prime, you can also get back to 1 by exponentiation. Let's explore this for a moment:"
   ]
  },
  {
   "cell_type": "code",
   "execution_count": 10,
   "metadata": {
    "collapsed": false
   },
   "outputs": [
    {
     "name": "stdout",
     "output_type": "stream",
     "text": [
      "[['e = 1 |' '1' '2' '3' '4']\n",
      " ['e = 2 |' '1' '4' '4' '1']\n",
      " ['e = 3 |' '1' '3' '2' '4']\n",
      " ['e = 4 |' '1' '1' '1' '1']]\n"
     ]
    }
   ],
   "source": [
    "output = np.array([])\n",
    "n = 5\n",
    "for e in range(1, n):\n",
    "    output = np.append(output, 'e = {} |'.format(e))\n",
    "    for i in range(1, n):\n",
    "        output = np.append(output, int(ma.mod(n)(i**e)))\n",
    "output = output.reshape(n-1, n)\n",
    "print(output)\n",
    "\n",
    "#Try changing n to other prime numbers and see if you can find a pattern for what numbers are equal to zero"
   ]
  },
  {
   "cell_type": "markdown",
   "metadata": {},
   "source": [
    "You may have just noticed that the bottom row, where the exponent is equal to *n*-1, always appears to be 1. This idea is actually what makes up **Fermat's Little Theorum**, and it holds true for any prime number. Another way to look at this property is Euler's totient, which looks at the number of fractions in simplest form that can be made by placing *n* as the denominator and cycling through numbers as the numerator:"
   ]
  },
  {
   "cell_type": "code",
   "execution_count": 11,
   "metadata": {
    "collapsed": false
   },
   "outputs": [
    {
     "name": "stdout",
     "output_type": "stream",
     "text": [
      "<euler.Euler instance at 0x7f473d606440>.__init__((),{})\n",
      "init primetools\n",
      "1/6\n",
      "2/6\n",
      "3/6\n",
      "4/6\n",
      "5/6\n",
      "6/6\n",
      "The totient is 2\n"
     ]
    }
   ],
   "source": [
    "import euler as eu\n",
    "euler = eu.Euler()\n",
    "n = 6\n",
    "for i in range(1, n+1):\n",
    "    print('{}/{}'.format(i,n))\n",
    "    \n",
    "#Using Alex Morrow's euler.py we can verify the totient\n",
    "print('The totient is {}'.format(euler.totient(n)))"
   ]
  },
  {
   "cell_type": "markdown",
   "metadata": {},
   "source": [
    "In example given, the totient is 2. However, if the number is prime, none of the fractions it creates will reduce, and the totient will always be *n*-1.\n",
    "\n",
    "This may seem unrelated, but we are actually getting into some of the heart of what makes up RSA. If you recall from the introduction (which was admitedly a while ago), the public key is made up of two prime numbers multiplied together. So far, we have only been dealing with a single prime number, but there is another method that can be used when two prime numbers are multiplied together. It turns out that the totient of the product will be equal to the totient of the first prime times the totient of the second prime. In other words, the totient of *pq* is equal to (*p*-1)(*q*-1). Let's try this out:"
   ]
  },
  {
   "cell_type": "code",
   "execution_count": 12,
   "metadata": {
    "collapsed": false,
    "scrolled": true
   },
   "outputs": [
    {
     "name": "stdout",
     "output_type": "stream",
     "text": [
      "(p-1)(q-1) = 8\n",
      "euler.py evaluation = 8\n"
     ]
    }
   ],
   "source": [
    "p = 5\n",
    "q = 3\n",
    "t_guess = (p-1)*(q-1)\n",
    "t = euler.totient(p*q)\n",
    "print('(p-1)(q-1) = {}'.format(t_guess))\n",
    "print('euler.py evaluation = {}'.format(t))"
   ]
  },
  {
   "cell_type": "markdown",
   "metadata": {},
   "source": [
    "Armed with this knowledge of modular arithmatic and the importance of primes, we can get started on how to actually implement RSA and why it works at all."
   ]
  }
 ],
 "metadata": {
  "kernelspec": {
   "display_name": "Python 2",
   "language": "python",
   "name": "python2"
  },
  "language_info": {
   "codemirror_mode": {
    "name": "ipython",
    "version": 2
   },
   "file_extension": ".py",
   "mimetype": "text/x-python",
   "name": "python",
   "nbconvert_exporter": "python",
   "pygments_lexer": "ipython2",
   "version": "2.7.6"
  }
 },
 "nbformat": 4,
 "nbformat_minor": 0
}
