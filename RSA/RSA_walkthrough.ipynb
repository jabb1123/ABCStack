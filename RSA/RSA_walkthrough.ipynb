{
 "cells": [
  {
   "cell_type": "markdown",
   "metadata": {},
   "source": [
    "**The Big Picture**"
   ]
  },
  {
   "cell_type": "markdown",
   "metadata": {},
   "source": [
    "The basic idea of RSA is that it is relatively easy to take two prime numbers and multiply them together. It is also relatively easy to raise a number to an exponent and find the modulo of that number for any given base. It is _not_ however so easy to go the other way and determine what two prime numbers were mulitplied together. That is the basic idea behind RSA; your data is safe so long as it takes \"too long\" for someone else to compute what two numbers you used."
   ]
  },
  {
   "cell_type": "markdown",
   "metadata": {},
   "source": [
    "**How does any of this work?**"
   ]
  },
  {
   "cell_type": "markdown",
   "metadata": {},
   "source": [
    "Let's start with the idea of modulo arithmatic since this is the basis of what keeps your data secure. Alex Morrow has created a library called **modulararithmatic.py** which we will use to explore this topic"
   ]
  },
  {
   "cell_type": "code",
   "execution_count": 1,
   "metadata": {
    "collapsed": false
   },
   "outputs": [],
   "source": [
    "import numpy as np\n",
    "import modulararithmetic as ma"
   ]
  },
  {
   "cell_type": "markdown",
   "metadata": {},
   "source": [
    "The basic idea of modulo arithmatic is fairly straighforward. Imagine a circle of numbers, such as a clock, where all operations wrap back around. For example: take the arithmatic operation of 2 + 3. If your clock has only 4 numbers - you are working (mod 4) - you would start at 2, take 3 steps forward and wind up wrapping back around to 1. Likewise, if you started with the value (2+3)(mod4), it would be represented the same way because modular arithmatic does not depend on the order operations are performed. Let's take a moment to explore how this is implemented in **moduloarithmatic.py**."
   ]
  },
  {
   "cell_type": "code",
   "execution_count": 18,
   "metadata": {
    "collapsed": false
   },
   "outputs": [
    {
     "name": "stdout",
     "output_type": "stream",
     "text": [
      "2\n",
      "True\n",
      "4\n",
      "1\n"
     ]
    }
   ],
   "source": [
    "a = ma.mod(5)(7)\n",
    "print(int(a))\n",
    "\n",
    "#For addition (mod n), the order of operations does not affect the result\n",
    "b = ma.mod(5)(6+8)\n",
    "c = ma.mod(5)(6) + ma.mod(5)(8)\n",
    "print(int(b) == int(c))\n",
    "print(int(b))\n",
    "\n",
    "#If you have created two ModX objects with the same (mod n), all normal arithmatic operations will be perfomred (mod n)\n",
    "print(int(a+b))\n",
    "\n",
    "\n",
    "#Find 15 (mod 7)\n",
    "\n",
    "#Find 23456 (mod 123)\n",
    "\n",
    "#Find [17 (mod9) + 35 (mod9)] (mod 7)"
   ]
  },
  {
   "cell_type": "markdown",
   "metadata": {},
   "source": [
    "Now that you have a little more understanding of how to find the modulo of a number using this library let's start to get to \n",
    "some more interesting operations like multiplication. "
   ]
  },
  {
   "cell_type": "code",
   "execution_count": 24,
   "metadata": {
    "collapsed": false
   },
   "outputs": [
    {
     "name": "stdout",
     "output_type": "stream",
     "text": [
      "1\n"
     ]
    }
   ],
   "source": [
    "a = ma.mod(5)(7)\n",
    "b = ma.mod(5)(18)\n",
    "print(int(a*b))\n",
    "#Try multiplying any two numbers base 24\n",
    "\n"
   ]
  },
  {
   "cell_type": "markdown",
   "metadata": {},
   "source": [
    "So now that you have a bit of an idea of how addition and multiplication work (mod n) Let's talk a little bit about inverses, because those are going to be very important to understanding RSA. In normal math a number times its inverse will result in 1 and a number plus its inverse will result in 0. These numbers 1 and 0 are called identities because if you multiply/ add -respectively - any number by them the result will be the same one you put in. In modulo arithmatic the same is ture, however instead of using negative numbers or fractions we have to rely on the numbers from 1 to n. So let's explore that a little bit in regards to multiplication."
   ]
  },
  {
   "cell_type": "code",
   "execution_count": 30,
   "metadata": {
    "collapsed": false
   },
   "outputs": [
    {
     "name": "stdout",
     "output_type": "stream",
     "text": [
      "3\n",
      "'2'\n"
     ]
    }
   ],
   "source": [
    "#To find the inverse of a ModX object (mod n) use: - (addition) or ~ (multiplication)\n",
    "a = ma.mod(5)(7)\n",
    "b = ~a\n",
    "print(int(b))\n",
    "b = ma.mod(5)(18)\n",
    "c = -b\n",
    "print(c)\n",
    "\n",
    "#find the inverse of b = ma.mod(5)(19)\n"
   ]
  },
  {
   "cell_type": "markdown",
   "metadata": {},
   "source": [
    "Awesome! Now that you have the basics of using modular arithmatic let's start looking at how this applies to RSA. One of the primary ideas that RSA is based on is the idea that given a number (mod n) we can find the inverse so it becomes very important to choose n so that there will in fact be an inverse. Let's start exploring how to choose *n* by looking at what happens when n is equal to 6."
   ]
  },
  {
   "cell_type": "code",
   "execution_count": 33,
   "metadata": {
    "collapsed": false
   },
   "outputs": [
    {
     "name": "stdout",
     "output_type": "stream",
     "text": [
      "'1' is the inverse of 1\n",
      "2 is not invertable\n",
      "3 is not invertable\n",
      "4 is not invertable\n",
      "'5' is the inverse of 5\n"
     ]
    }
   ],
   "source": [
    "#for every number (mod 6) print the multiplicative inverse\n",
    "n = 6\n",
    "for i in range(1, n):\n",
    "    a = ma.mod(n)(i)\n",
    "    try:\n",
    "        print('{} is the inverse of {}'.format(~a, i))\n",
    "    except:\n",
    "        print('{} is not invertable'.format(i))\n",
    "\n",
    "#Change the code above to find sets of numbers where every value has an inverse Once you have found three that work,\n",
    "#what do they have in common?"
   ]
  },
  {
   "cell_type": "markdown",
   "metadata": {},
   "source": [
    "It turns out, if *n* is prime, you can also get back to 1 by exponentiation. Let's explore that for a moment."
   ]
  },
  {
   "cell_type": "code",
   "execution_count": 92,
   "metadata": {
    "collapsed": false
   },
   "outputs": [
    {
     "name": "stdout",
     "output_type": "stream",
     "text": [
      "[['e = 1 |' '1' '2']\n",
      " ['e = 2 |' '1' '1']]\n"
     ]
    }
   ],
   "source": [
    "output = np.array([])\n",
    "n = 3\n",
    "for e in range(1, n):\n",
    "    output = np.append(output, 'e = {} |'.format(e))\n",
    "    for i in range(1, n):\n",
    "        output = np.append(output, int(ma.mod(n)(i**e)))\n",
    "output = output.reshape(n-1, n)\n",
    "print(output)\n",
    "\n",
    "#Try changing n to other prime numbers and see if you can find a pattern for what numbers are equal to zero"
   ]
  },
  {
   "cell_type": "markdown",
   "metadata": {},
   "source": [
    "So what you may have just noticed is that the bottom row, where the exponent is equal to n-1, always appears to be 1. This idea is actually what makes up Fermot's little theorum and holds true for any prime number. Another way to look at this property is Euler's totient which looks at the number of fractions in simplest form that can be madeby placing n as the denomenator and cycling through number as the numerator. "
   ]
  },
  {
   "cell_type": "code",
   "execution_count": 105,
   "metadata": {
    "collapsed": false
   },
   "outputs": [
    {
     "name": "stdout",
     "output_type": "stream",
     "text": [
      "<euler.Euler instance at 0x7fa880502ef0>.__init__((),{})\n",
      "init primetools\n",
      "1/6\n",
      "2/6\n",
      "3/6\n",
      "4/6\n",
      "5/6\n",
      "6/6\n",
      "The totient is 2\n"
     ]
    }
   ],
   "source": [
    "import euler as eu\n",
    "euler = eu.Euler()\n",
    "n = 6\n",
    "for i in range(1, n+1):\n",
    "    print('{}/{}'.format(i,n))\n",
    "    \n",
    "#Using Alex Morrow's euler.py we can verify the totient\n",
    "print('The totient is {}'.format(euler.totient(n)))"
   ]
  },
  {
   "cell_type": "markdown",
   "metadata": {},
   "source": [
    "For the example given, the totient is 2. However, if the number is prime, none of the fractions it creates will reduce and the totient will always be n-1. "
   ]
  },
  {
   "cell_type": "markdown",
   "metadata": {},
   "source": [
    "So this may seem unrelated, but we are actually getting into some of the heart of what makes up RSA. If you recall from the introduction (which was admitedly a while ago) the public key is made up of two prime numbers multiplied together. So far we have only been dealing with a single prime number, but there is another method that can be used when two prime numbers are multiplied together, it turns out that the totient will be equal to the totient of the first times the totient of the second. In other words, the totient of _pq_ is equal to _(p-1)(q-1)_. Let's try that out."
   ]
  },
  {
   "cell_type": "code",
   "execution_count": 106,
   "metadata": {
    "collapsed": false
   },
   "outputs": [
    {
     "name": "stdout",
     "output_type": "stream",
     "text": [
      "(p-1)(q-1) = 8\n",
      "euler.py evaluation = 8\n"
     ]
    }
   ],
   "source": [
    "p = 5\n",
    "q = 3\n",
    "t_guess = (p-1)*(q-1)\n",
    "t = euler.totient(p*q)\n",
    "print('(p-1)(q-1) = {}'.format(t_guess))\n",
    "print('euler.py evaluation = {}'.format(t))"
   ]
  },
  {
   "cell_type": "markdown",
   "metadata": {},
   "source": [
    "Armed with this knowledge of modular arithmatic and the importance of primes, we can get started with how to actually implement RSA and why it works at all."
   ]
  },
  {
   "cell_type": "code",
   "execution_count": null,
   "metadata": {
    "collapsed": false
   },
   "outputs": [],
   "source": []
  }
 ],
 "metadata": {
  "kernelspec": {
   "display_name": "Python 2",
   "language": "python",
   "name": "python2"
  },
  "language_info": {
   "codemirror_mode": {
    "name": "ipython",
    "version": 2
   },
   "file_extension": ".py",
   "mimetype": "text/x-python",
   "name": "python",
   "nbconvert_exporter": "python",
   "pygments_lexer": "ipython2",
   "version": "2.7.6"
  }
 },
 "nbformat": 4,
 "nbformat_minor": 0
}
